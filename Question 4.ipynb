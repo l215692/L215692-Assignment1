{
 "cells": [
  {
   "cell_type": "code",
   "execution_count": 1,
   "id": "f54860e0",
   "metadata": {},
   "outputs": [],
   "source": [
    "import numpy as np\n",
    "import pandas as pd\n",
    "from matplotlib import pyplot as plt\n",
    "from sklearn import linear_model"
   ]
  },
  {
   "cell_type": "code",
   "execution_count": 2,
   "id": "94fbe1b2",
   "metadata": {},
   "outputs": [],
   "source": [
    "iris_dataset=pd.read_csv(\"CatData.csv\")"
   ]
  },
  {
   "cell_type": "code",
   "execution_count": 3,
   "id": "0c41a4d1",
   "metadata": {},
   "outputs": [
    {
     "data": {
      "text/html": [
       "<div>\n",
       "<style scoped>\n",
       "    .dataframe tbody tr th:only-of-type {\n",
       "        vertical-align: middle;\n",
       "    }\n",
       "\n",
       "    .dataframe tbody tr th {\n",
       "        vertical-align: top;\n",
       "    }\n",
       "\n",
       "    .dataframe thead th {\n",
       "        text-align: right;\n",
       "    }\n",
       "</style>\n",
       "<table border=\"1\" class=\"dataframe\">\n",
       "  <thead>\n",
       "    <tr style=\"text-align: right;\">\n",
       "      <th></th>\n",
       "      <th>Tail Length (cm)</th>\n",
       "      <th>Mass (kg)</th>\n",
       "    </tr>\n",
       "  </thead>\n",
       "  <tbody>\n",
       "    <tr>\n",
       "      <th>0</th>\n",
       "      <td>18.1</td>\n",
       "      <td>3.750</td>\n",
       "    </tr>\n",
       "    <tr>\n",
       "      <th>1</th>\n",
       "      <td>18.6</td>\n",
       "      <td>3.800</td>\n",
       "    </tr>\n",
       "    <tr>\n",
       "      <th>2</th>\n",
       "      <td>19.5</td>\n",
       "      <td>3.250</td>\n",
       "    </tr>\n",
       "    <tr>\n",
       "      <th>3</th>\n",
       "      <td>19.3</td>\n",
       "      <td>3.450</td>\n",
       "    </tr>\n",
       "    <tr>\n",
       "      <th>4</th>\n",
       "      <td>19.0</td>\n",
       "      <td>3.650</td>\n",
       "    </tr>\n",
       "    <tr>\n",
       "      <th>...</th>\n",
       "      <td>...</td>\n",
       "      <td>...</td>\n",
       "    </tr>\n",
       "    <tr>\n",
       "      <th>337</th>\n",
       "      <td>20.7</td>\n",
       "      <td>4.000</td>\n",
       "    </tr>\n",
       "    <tr>\n",
       "      <th>338</th>\n",
       "      <td>20.2</td>\n",
       "      <td>3.400</td>\n",
       "    </tr>\n",
       "    <tr>\n",
       "      <th>339</th>\n",
       "      <td>19.3</td>\n",
       "      <td>3.775</td>\n",
       "    </tr>\n",
       "    <tr>\n",
       "      <th>340</th>\n",
       "      <td>21.0</td>\n",
       "      <td>4.100</td>\n",
       "    </tr>\n",
       "    <tr>\n",
       "      <th>341</th>\n",
       "      <td>19.8</td>\n",
       "      <td>3.775</td>\n",
       "    </tr>\n",
       "  </tbody>\n",
       "</table>\n",
       "<p>342 rows × 2 columns</p>\n",
       "</div>"
      ],
      "text/plain": [
       "     Tail Length (cm)  Mass (kg)\n",
       "0                18.1      3.750\n",
       "1                18.6      3.800\n",
       "2                19.5      3.250\n",
       "3                19.3      3.450\n",
       "4                19.0      3.650\n",
       "..                ...        ...\n",
       "337              20.7      4.000\n",
       "338              20.2      3.400\n",
       "339              19.3      3.775\n",
       "340              21.0      4.100\n",
       "341              19.8      3.775\n",
       "\n",
       "[342 rows x 2 columns]"
      ]
     },
     "execution_count": 3,
     "metadata": {},
     "output_type": "execute_result"
    }
   ],
   "source": [
    "iris_dataset"
   ]
  },
  {
   "cell_type": "code",
   "execution_count": 4,
   "id": "4dd8819a",
   "metadata": {
    "scrolled": true
   },
   "outputs": [
    {
     "name": "stdout",
     "output_type": "stream",
     "text": [
      "     Tail Length (cm)  Mass (kg)\n",
      "0                18.1      3.750\n",
      "1                18.6      3.800\n",
      "2                19.5      3.250\n",
      "3                19.3      3.450\n",
      "4                19.0      3.650\n",
      "..                ...        ...\n",
      "337              20.7      4.000\n",
      "338              20.2      3.400\n",
      "339              19.3      3.775\n",
      "340              21.0      4.100\n",
      "341              19.8      3.775\n",
      "\n",
      "[342 rows x 2 columns]\n"
     ]
    }
   ],
   "source": [
    "iris_dataset=iris_dataset.dropna() \n",
    "print(iris_dataset)"
   ]
  },
  {
   "cell_type": "code",
   "execution_count": 39,
   "id": "ec5ac686",
   "metadata": {},
   "outputs": [],
   "source": [
    "def simple_linear_regression(Mass,TailLength):\n",
    "    \n",
    "    Xi=Mass\n",
    "    Yi=TailLength\n",
    "    \n",
    "    #Total number of data points:\n",
    "    n=len(xi)\n",
    "    \n",
    "    #X bar:\n",
    "    Xi_mean=Xi.mean()\n",
    "    \n",
    "    #Y bar:\n",
    "    Yi_mean=Yi.mean()\n",
    "    \n",
    "    #Sum of X:\n",
    "    S_Xi=(Xi).sum()\n",
    "\n",
    "    #Sum of Y:\n",
    "    S_Yi=(Yi).sum()\n",
    "\n",
    "    #Sum of (X*Y) multiplied by n:\n",
    "    S_XiYi=((Xi*Yi).sum())*n\n",
    "\n",
    "    #Sum of X*Sum of Y:\n",
    "    S_Xi_S_Yi=S_Xi*S_Yi\n",
    "\n",
    "    #Sum of (X*X) ,ultiplied by n:\n",
    "    S_XiXi=((Xi*Xi).sum())*n\n",
    "\n",
    "    #Square of sum of x:\n",
    "    S_Xi_Square=S_Xi*S_Xi\n",
    "\n",
    "    #slope:\n",
    "    slope=(S_XiYi-S_Xi_S_Yi)/(S_XiXi-S_Xi_Square)\n",
    "\n",
    "    #Intercept:\n",
    "    intercept=Yi_mean-slope*Xi_mean\n",
    "    \n",
    "slope=1.52760296\n",
    "intercept=13.67290803"
   ]
  },
  {
   "cell_type": "code",
   "execution_count": 40,
   "id": "08bc7fed",
   "metadata": {},
   "outputs": [
    {
     "data": {
      "image/png": "[encoded data removed]",
      "text/plain": [
       "<Figure size 640x480 with 1 Axes>"
      ]
     },
     "metadata": {},
     "output_type": "display_data"
    }
   ],
   "source": [
    "plt.scatter(iris_dataset[\"Mass (kg)\"],iris_dataset[\"Tail Length (cm)\"])\n",
    "plt.plot(iris_dataset[\"Mass (kg)\"],slope*iris_dataset[\"Mass (kg)\"]+intercept,color=\"red\")\n",
    "plt.xlabel(\"Mass (kg)\")\n",
    "plt.ylabel(\"Tail Length (cm)\")\n",
    "plt.show()"
   ]
  },
  {
   "cell_type": "code",
   "execution_count": null,
   "id": "aaf482a3",
   "metadata": {},
   "outputs": [],
   "source": []
  }
 ],
 "metadata": {
  "kernelspec": {
   "display_name": "Python 3 (ipykernel)",
   "language": "python",
   "name": "python3"
  },
  "language_info": {
   "codemirror_mode": {
    "name": "ipython",
    "version": 3
   },
   "file_extension": ".py",
   "mimetype": "text/x-python",
   "name": "python",
   "nbconvert_exporter": "python",
   "pygments_lexer": "ipython3",
   "version": "3.10.7"
  }
 },
 "nbformat": 4,
 "nbformat_minor": 5
}
