{
 "cells": [
  {
   "cell_type": "code",
   "execution_count": 3,
   "id": "1a4d5a14",
   "metadata": {},
   "outputs": [
    {
     "name": "stdout",
     "output_type": "stream",
     "text": [
      "Enter Size of Matrix : 4\n",
      "Enter Data : 1\n",
      "Enter Data : 2\n",
      "Enter Data : 3\n",
      "Enter Data : 4\n",
      "Enter Data : 2\n",
      "Enter Data : 3\n",
      "Enter Data : 1\n",
      "Enter Data : 3\n",
      "Enter Data : 3\n",
      "Enter Data : 1\n",
      "Enter Data : 2\n",
      "Enter Data : 3\n",
      "Enter Data : 4\n",
      "Enter Data : 4\n",
      "Enter Data : 4\n",
      "Enter Data : 4\n",
      "[['1', '2', '3', '4'], ['2', '3', '1', '3'], ['3', '1', '2', '3'], ['4', '4', '4', '4']]\n",
      "False\n"
     ]
    }
   ],
   "source": [
    "size=input(\"Enter Size of Matrix : \")\n",
    "\n",
    "arr=[]\n",
    "rows,cols=int(size),int(size)\n",
    "for i in range(int(size)):\n",
    "    col = []\n",
    "    for j in range(int(size)):\n",
    "        col.append(0)\n",
    "    arr.append(col)\n",
    "\n",
    "check=0\n",
    "\n",
    "i=0\n",
    "while i<int(size):\n",
    "    j=0\n",
    "    while j<int(size):\n",
    "        arr[i][j]=input(\"Enter Data : \")\n",
    "        j=j+1\n",
    "    i=i+1\n",
    "print(arr)\n",
    "\n",
    "\n",
    "i=0\n",
    "while i<int(size):\n",
    "    j=0\n",
    "    search=arr[i][j]\n",
    "    j=j+1\n",
    "    while j<int(size):\n",
    "        if search==arr[i][j]:\n",
    "            check=1\n",
    "        j=j+1    \n",
    "    i=i+1\n",
    "    \n",
    "i=0\n",
    "while i<int(size):\n",
    "    j=0\n",
    "    search=arr[j][i]\n",
    "    j=j+1\n",
    "    while j<int(size):\n",
    "        if search==arr[j][i]:\n",
    "            check=1\n",
    "        j=j+1    \n",
    "    i=i+1\n",
    "    \n",
    "if arr[0][0].isnumeric()==0:\n",
    "    check=1\n",
    "    \n",
    "if check==1:\n",
    "    print(\"False\")\n",
    "else:\n",
    "    print(\"True\")\n",
    "\n",
    "\n"
   ]
  },
  {
   "cell_type": "code",
   "execution_count": null,
   "id": "033692b0",
   "metadata": {},
   "outputs": [],
   "source": []
  }
 ],
 "metadata": {
  "kernelspec": {
   "display_name": "Python 3 (ipykernel)",
   "language": "python",
   "name": "python3"
  },
  "language_info": {
   "codemirror_mode": {
    "name": "ipython",
    "version": 3
   },
   "file_extension": ".py",
   "mimetype": "text/x-python",
   "name": "python",
   "nbconvert_exporter": "python",
   "pygments_lexer": "ipython3",
   "version": "3.10.7"
  }
 },
 "nbformat": 4,
 "nbformat_minor": 5
}
