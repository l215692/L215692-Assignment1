{
 "cells": [
  {
   "cell_type": "markdown",
   "id": "dd60ebb7",
   "metadata": {},
   "source": [
    "# Question 1"
   ]
  },
  {
   "cell_type": "code",
   "execution_count": null,
   "id": "3064de5e",
   "metadata": {},
   "outputs": [],
   "source": [
    "size=input(\"Enter Size of Matrix : \")\n",
    "\n",
    "arr=[]\n",
    "rows,cols=int(size),int(size)\n",
    "for i in range(int(size)):\n",
    "    col = []\n",
    "    for j in range(int(size)):\n",
    "        col.append(0)\n",
    "    arr.append(col)\n",
    "\n",
    "check=0\n",
    "\n",
    "i=0\n",
    "while i<int(size):\n",
    "    j=0\n",
    "    while j<int(size):\n",
    "        arr[i][j]=input(\"Enter Data : \")\n",
    "        j=j+1\n",
    "    i=i+1\n",
    "print(arr)\n",
    "\n",
    "\n",
    "i=0\n",
    "while i<int(size):\n",
    "    j=0\n",
    "    search=arr[i][j]\n",
    "    j=j+1\n",
    "    while j<int(size):\n",
    "        if search==arr[i][j]:\n",
    "            check=1\n",
    "        j=j+1    \n",
    "    i=i+1\n",
    "    \n",
    "i=0\n",
    "while i<int(size):\n",
    "    j=0\n",
    "    search=arr[j][i]\n",
    "    j=j+1\n",
    "    while j<int(size):\n",
    "        if search==arr[j][i]:\n",
    "            check=1\n",
    "        j=j+1    \n",
    "    i=i+1\n",
    "    \n",
    "if arr[0][0].isnumeric()==0:\n",
    "    check=1\n",
    "    \n",
    "if check==1:\n",
    "    print(\"False\")\n",
    "else:\n",
    "    print(\"True\")\n",
    "    "
   ]
  },
  {
   "cell_type": "markdown",
   "id": "6c739fd3",
   "metadata": {},
   "source": [
    "# Question 2"
   ]
  },
  {
   "cell_type": "code",
   "execution_count": 4,
   "id": "88d05979",
   "metadata": {},
   "outputs": [],
   "source": [
    "import numpy as np\n",
    "import pandas as pd\n",
    "from matplotlib import pyplot as plt"
   ]
  },
  {
   "cell_type": "code",
   "execution_count": 5,
   "id": "05597b93",
   "metadata": {},
   "outputs": [],
   "source": [
    "iris_dataset=pd.read_csv(\"StudentMarkSheet.csv\")"
   ]
  },
  {
   "cell_type": "code",
   "execution_count": 6,
   "id": "172ad60e",
   "metadata": {},
   "outputs": [
    {
     "data": {
      "text/html": [
       "<div>\n",
       "<style scoped>\n",
       "    .dataframe tbody tr th:only-of-type {\n",
       "        vertical-align: middle;\n",
       "    }\n",
       "\n",
       "    .dataframe tbody tr th {\n",
       "        vertical-align: top;\n",
       "    }\n",
       "\n",
       "    .dataframe thead th {\n",
       "        text-align: right;\n",
       "    }\n",
       "</style>\n",
       "<table border=\"1\" class=\"dataframe\">\n",
       "  <thead>\n",
       "    <tr style=\"text-align: right;\">\n",
       "      <th></th>\n",
       "      <th>Student name</th>\n",
       "      <th>Exam name</th>\n",
       "      <th>Exam date</th>\n",
       "      <th>Marks</th>\n",
       "    </tr>\n",
       "  </thead>\n",
       "  <tbody>\n",
       "    <tr>\n",
       "      <th>0</th>\n",
       "      <td>James Walker</td>\n",
       "      <td>Biology</td>\n",
       "      <td>05/06/2016</td>\n",
       "      <td>31.0</td>\n",
       "    </tr>\n",
       "    <tr>\n",
       "      <th>1</th>\n",
       "      <td>Velma Clemons</td>\n",
       "      <td>Biology</td>\n",
       "      <td>05/06/2016</td>\n",
       "      <td>43.0</td>\n",
       "    </tr>\n",
       "    <tr>\n",
       "      <th>2</th>\n",
       "      <td>Kibo Underwood</td>\n",
       "      <td>Biology</td>\n",
       "      <td>05/06/2016</td>\n",
       "      <td>81.0</td>\n",
       "    </tr>\n",
       "    <tr>\n",
       "      <th>3</th>\n",
       "      <td>Louis Mcgee</td>\n",
       "      <td>Biology</td>\n",
       "      <td>05/06/2016</td>\n",
       "      <td>11.0</td>\n",
       "    </tr>\n",
       "    <tr>\n",
       "      <th>4</th>\n",
       "      <td>Phyllis Paul</td>\n",
       "      <td>Biology</td>\n",
       "      <td>05/06/2016</td>\n",
       "      <td>18.0</td>\n",
       "    </tr>\n",
       "    <tr>\n",
       "      <th>...</th>\n",
       "      <td>...</td>\n",
       "      <td>...</td>\n",
       "      <td>...</td>\n",
       "      <td>...</td>\n",
       "    </tr>\n",
       "    <tr>\n",
       "      <th>195</th>\n",
       "      <td>Yen Bowers</td>\n",
       "      <td>Sociology</td>\n",
       "      <td>21/06/2016</td>\n",
       "      <td>52.0</td>\n",
       "    </tr>\n",
       "    <tr>\n",
       "      <th>196</th>\n",
       "      <td>Ryan Pena</td>\n",
       "      <td>Sociology</td>\n",
       "      <td>21/06/2016</td>\n",
       "      <td>16.0</td>\n",
       "    </tr>\n",
       "    <tr>\n",
       "      <th>197</th>\n",
       "      <td>Portia Hamilton</td>\n",
       "      <td>Sociology</td>\n",
       "      <td>21/06/2016</td>\n",
       "      <td>34.0</td>\n",
       "    </tr>\n",
       "    <tr>\n",
       "      <th>198</th>\n",
       "      <td>Sydnee Chambers</td>\n",
       "      <td>Sociology</td>\n",
       "      <td>21/06/2016</td>\n",
       "      <td>76.0</td>\n",
       "    </tr>\n",
       "    <tr>\n",
       "      <th>199</th>\n",
       "      <td>Stacy Small</td>\n",
       "      <td>Sociology</td>\n",
       "      <td>21/06/2016</td>\n",
       "      <td>96.0</td>\n",
       "    </tr>\n",
       "  </tbody>\n",
       "</table>\n",
       "<p>200 rows × 4 columns</p>\n",
       "</div>"
      ],
      "text/plain": [
       "        Student name  Exam name   Exam date  Marks\n",
       "0       James Walker    Biology  05/06/2016   31.0\n",
       "1      Velma Clemons    Biology  05/06/2016   43.0\n",
       "2     Kibo Underwood    Biology  05/06/2016   81.0\n",
       "3        Louis Mcgee    Biology  05/06/2016   11.0\n",
       "4       Phyllis Paul    Biology  05/06/2016   18.0\n",
       "..               ...        ...         ...    ...\n",
       "195       Yen Bowers  Sociology  21/06/2016   52.0\n",
       "196        Ryan Pena  Sociology  21/06/2016   16.0\n",
       "197  Portia Hamilton  Sociology  21/06/2016   34.0\n",
       "198  Sydnee Chambers  Sociology  21/06/2016   76.0\n",
       "199      Stacy Small  Sociology  21/06/2016   96.0\n",
       "\n",
       "[200 rows x 4 columns]"
      ]
     },
     "execution_count": 6,
     "metadata": {},
     "output_type": "execute_result"
    }
   ],
   "source": [
    "iris_dataset"
   ]
  },
  {
   "cell_type": "code",
   "execution_count": 7,
   "id": "41a06469",
   "metadata": {},
   "outputs": [
    {
     "name": "stdout",
     "output_type": "stream",
     "text": [
      "200\n"
     ]
    }
   ],
   "source": [
    "count_row = iris_dataset.shape[0]\n",
    "print(count_row)"
   ]
  },
  {
   "cell_type": "code",
   "execution_count": 8,
   "id": "e4eb3d96",
   "metadata": {},
   "outputs": [
    {
     "name": "stdout",
     "output_type": "stream",
     "text": [
      "        Student name  Exam name   Exam date  Marks\n",
      "0       James Walker    Biology  05/06/2016   31.0\n",
      "1      Velma Clemons    Biology  05/06/2016   43.0\n",
      "2     Kibo Underwood    Biology  05/06/2016   81.0\n",
      "3        Louis Mcgee    Biology  05/06/2016   11.0\n",
      "4       Phyllis Paul    Biology  05/06/2016   18.0\n",
      "..               ...        ...         ...    ...\n",
      "195       Yen Bowers  Sociology  21/06/2016   52.0\n",
      "196        Ryan Pena  Sociology  21/06/2016   16.0\n",
      "197  Portia Hamilton  Sociology  21/06/2016   34.0\n",
      "198  Sydnee Chambers  Sociology  21/06/2016   76.0\n",
      "199      Stacy Small  Sociology  21/06/2016   96.0\n",
      "\n",
      "[196 rows x 4 columns]\n"
     ]
    }
   ],
   "source": [
    "iris_dataset=iris_dataset.dropna() \n",
    "print(iris_dataset)"
   ]
  },
  {
   "cell_type": "code",
   "execution_count": 9,
   "id": "2b0dc459",
   "metadata": {},
   "outputs": [
    {
     "name": "stdout",
     "output_type": "stream",
     "text": [
      "196\n"
     ]
    }
   ],
   "source": [
    "count_row_updated = iris_dataset.shape[0]\n",
    "print(count_row_updated)"
   ]
  },
  {
   "cell_type": "code",
   "execution_count": 10,
   "id": "bcb93262",
   "metadata": {},
   "outputs": [
    {
     "name": "stdout",
     "output_type": "stream",
     "text": [
      "4\n"
     ]
    }
   ],
   "source": [
    "count_row_updated_2=count_row-count_row_updated\n",
    "print(count_row_updated_2)"
   ]
  },
  {
   "cell_type": "code",
   "execution_count": 11,
   "id": "72016382",
   "metadata": {},
   "outputs": [
    {
     "name": "stdout",
     "output_type": "stream",
     "text": [
      "1. Number of rows before :  200\n",
      "2. Number of rows containing null data 4\n",
      "3. Number of rows after 196\n"
     ]
    }
   ],
   "source": [
    "print(\"1. Number of rows before : \",count_row)\n",
    "print(\"2. Number of rows containing null data\",count_row_updated_2)\n",
    "print(\"3. Number of rows after\",count_row_updated)"
   ]
  },
  {
   "cell_type": "code",
   "execution_count": 12,
   "id": "ad936393",
   "metadata": {},
   "outputs": [
    {
     "name": "stdout",
     "output_type": "stream",
     "text": [
      "     Student name    Exam name   Exam date  Marks\n",
      "0    James Walker      Biology  05/06/2016   31.0\n",
      "42   James Walker    Chemistry  15/06/2016   61.0\n",
      "71   James Walker  Mathematics  29/07/2016   23.0\n",
      "150  James Walker      Physics  10/06/2016  100.0\n",
      "180  James Walker    Sociology  21/06/2016   73.0\n"
     ]
    }
   ],
   "source": [
    "filter1=iris_dataset[iris_dataset[\"Student name\"] == 'James Walker'] \n",
    "print(filter1)"
   ]
  },
  {
   "cell_type": "code",
   "execution_count": 13,
   "id": "3d88eded",
   "metadata": {},
   "outputs": [
    {
     "name": "stdout",
     "output_type": "stream",
     "text": [
      "         Student name Exam name   Exam date  Marks\n",
      "0        James Walker   Biology  05/06/2016   31.0\n",
      "1       Velma Clemons   Biology  05/06/2016   43.0\n",
      "2      Kibo Underwood   Biology  05/06/2016   81.0\n",
      "3         Louis Mcgee   Biology  05/06/2016   11.0\n",
      "4        Phyllis Paul   Biology  05/06/2016   18.0\n",
      "5      Zenaida Decker   Biology  05/06/2016   55.0\n",
      "6     Gillian Tillman   Biology  05/06/2016   38.0\n",
      "7     Constance Boone   Biology  05/06/2016   16.0\n",
      "8   Giselle Lancaster   Biology  05/06/2016   73.0\n",
      "9    Kirsten Mcdowell   Biology  05/06/2016   16.0\n",
      "10        Solomon Ray   Biology  05/06/2016   23.0\n",
      "11      John Marshall   Biology  05/06/2016   55.0\n",
      "12     Merrill Carney   Biology  05/06/2016   71.0\n",
      "13   Hakeem Gillespie   Biology  05/06/2016   12.0\n",
      "14       Hayden Boyer   Biology  05/06/2016   77.0\n",
      "15     Griffin Mcleod   Biology  05/06/2016   19.0\n",
      "16   Allistair Patton   Biology  05/06/2016   57.0\n",
      "17        Rina Slater   Biology  05/06/2016   78.0\n",
      "18   Caldwell Skinner   Biology  05/06/2016   92.0\n",
      "19    Portia Galloway   Biology  05/06/2016   23.0\n",
      "20   Noelle Valentine   Biology  05/06/2016   62.0\n",
      "21          Abel Clay   Biology  05/06/2016    1.0\n",
      "22     Stephanie Kent   Biology  05/06/2016  100.0\n",
      "23         Axel Petty   Biology  05/06/2016   49.0\n",
      "24     Nevada Morales   Biology  05/06/2016   41.0\n",
      "25        Fuller Bush   Biology  05/06/2016   47.0\n",
      "26         Quinn Mayo   Biology  05/06/2016   24.0\n",
      "27     Marcia Shepard   Biology  05/06/2016   33.0\n",
      "28       Kieran Moody   Biology  05/06/2016   45.0\n",
      "29   Brielle Thompson   Biology  05/06/2016   41.0\n",
      "30         Hashim Gay   Biology  05/06/2016   78.0\n",
      "31    Deborah Roberts   Biology  05/06/2016   25.0\n",
      "32    Nomlanga Clarke   Biology  05/06/2016   44.0\n",
      "33       Elaine Downs   Biology  05/06/2016   86.0\n",
      "34   Christen Ballard   Biology  05/06/2016   97.0\n",
      "35       Dacey Baxter   Biology  05/06/2016   35.0\n",
      "36      Nasim Sampson   Biology  05/06/2016   75.0\n",
      "37      Yoshi Sherman   Biology  05/06/2016   48.0\n"
     ]
    }
   ],
   "source": [
    "filter2=iris_dataset[iris_dataset[\"Exam name\"] == 'Biology'] \n",
    "print(filter2)"
   ]
  },
  {
   "cell_type": "code",
   "execution_count": 14,
   "id": "0f17bef7",
   "metadata": {},
   "outputs": [
    {
     "name": "stdout",
     "output_type": "stream",
     "text": [
      "47.89473684210526\n"
     ]
    }
   ],
   "source": [
    "Biology = filter2[\"Marks\"].mean()\n",
    "print(Biology)"
   ]
  },
  {
   "cell_type": "code",
   "execution_count": 15,
   "id": "db06ca3e",
   "metadata": {},
   "outputs": [
    {
     "name": "stdout",
     "output_type": "stream",
     "text": [
      "        Student name  Exam name   Exam date  Marks\n",
      "38       Veda Malone  Chemistry  15/06/2016   52.0\n",
      "39   Scarlett Fisher  Chemistry  15/06/2016   20.0\n",
      "40  Meredith Parsons  Chemistry  15/06/2016   32.0\n",
      "41    Jerome Buckley  Chemistry  15/06/2016   19.0\n",
      "42      James Walker  Chemistry  15/06/2016   61.0\n",
      "43  Gisela Robertson  Chemistry  15/06/2016   34.0\n",
      "44       Sylvia Kent  Chemistry  15/06/2016    9.0\n",
      "45     Mercedes King  Chemistry  15/06/2016   22.0\n",
      "46      Logan Madden  Chemistry  15/06/2016   46.0\n",
      "48      Cora Frazier  Chemistry  15/06/2016   92.0\n",
      "49    Yolanda Carter  Chemistry  15/06/2016    1.0\n",
      "50     Hadassah Lowe  Chemistry  15/06/2016   84.0\n",
      "51       Ingrid Yang  Chemistry  15/06/2016   63.0\n",
      "52     Trevor Spence  Chemistry  15/06/2016   59.0\n",
      "53         Iola West  Chemistry  15/06/2016   61.0\n",
      "54      Kitra Sparks  Chemistry  15/06/2016   47.0\n",
      "55        Carly Bray  Chemistry  15/06/2016   27.0\n",
      "56     Leilani Beard  Chemistry  15/06/2016   99.0\n",
      "57     Cameron Bowen  Chemistry  15/06/2016   84.0\n",
      "58      Hilda Oneill  Chemistry  15/06/2016   95.0\n",
      "59         Ori Short  Chemistry  15/06/2016   50.0\n",
      "60   Xandra Cardenas  Chemistry  15/06/2016   27.0\n",
      "61       Audrey Todd  Chemistry  15/06/2016   39.0\n",
      "62   Ferdinand Lloyd  Chemistry  15/06/2016   71.0\n",
      "63   Kareem Mcdowell  Chemistry  15/06/2016   83.0\n",
      "64       Aaron Giles  Chemistry  15/06/2016   38.0\n"
     ]
    }
   ],
   "source": [
    "filter2=iris_dataset[iris_dataset[\"Exam name\"] == 'Chemistry'] \n",
    "print(filter2)"
   ]
  },
  {
   "cell_type": "code",
   "execution_count": 16,
   "id": "215430ef",
   "metadata": {},
   "outputs": [
    {
     "name": "stdout",
     "output_type": "stream",
     "text": [
      "50.57692307692308\n"
     ]
    }
   ],
   "source": [
    "Chemistry = filter2[\"Marks\"].mean()\n",
    "print(Chemistry)"
   ]
  },
  {
   "cell_type": "code",
   "execution_count": 17,
   "id": "edef3875",
   "metadata": {},
   "outputs": [
    {
     "name": "stdout",
     "output_type": "stream",
     "text": [
      "           Student name    Exam name   Exam date  Marks\n",
      "65      Keefe Schneider  Mathematics  29/07/2016   48.0\n",
      "66       Kasper Ballard  Mathematics  29/07/2016    5.0\n",
      "67         Maris Turner  Mathematics  29/07/2016    7.0\n",
      "68        Ava Robertson  Mathematics  29/07/2016   70.0\n",
      "69       Gillian Benton  Mathematics  29/07/2016   73.0\n",
      "70          Dora Landry  Mathematics  29/07/2016   59.0\n",
      "71         James Walker  Mathematics  29/07/2016   23.0\n",
      "72          Iola Sutton  Mathematics  29/07/2016   72.0\n",
      "73            Jana Reed  Mathematics  29/07/2016   31.0\n",
      "74         Alfonso Love  Mathematics  29/07/2016   74.0\n",
      "75        Ciaran Mosley  Mathematics  29/07/2016   91.0\n",
      "76         Justin Evans  Mathematics  29/07/2016   53.0\n",
      "77          Ryder Combs  Mathematics  29/07/2016   56.0\n",
      "79        Jakeem Rivera  Mathematics  29/07/2016  100.0\n",
      "80           Hyatt Long  Mathematics  29/07/2016   50.0\n",
      "81      Tanisha Stanton  Mathematics  29/07/2016   60.0\n",
      "82         Alec Pittman  Mathematics  29/07/2016   38.0\n",
      "83       Octavia Ashley  Mathematics  29/07/2016   33.0\n",
      "84       Curran Merrill  Mathematics  29/07/2016   75.0\n",
      "85          Laith Gibbs  Mathematics  29/07/2016   74.0\n",
      "86       Walter Skinner  Mathematics  29/07/2016    7.0\n",
      "87           Burke Horn  Mathematics  29/07/2016    6.0\n",
      "88     Alexander Walton  Mathematics  29/07/2016   40.0\n",
      "89      Cally Wilkinson  Mathematics  29/07/2016   14.0\n",
      "90        Gary Mcintosh  Mathematics  29/07/2016   16.0\n",
      "91          Jacob Greer  Mathematics  29/07/2016   31.0\n",
      "92   Fitzgerald Mueller  Mathematics  29/07/2016   72.0\n",
      "93       Claire Roberts  Mathematics  29/07/2016   48.0\n",
      "94        Kuame Harrell  Mathematics  29/07/2016   53.0\n",
      "95         Kaseem Hurst  Mathematics  29/07/2016   67.0\n",
      "96           Irene Witt  Mathematics  29/07/2016   23.0\n",
      "97        Courtney Nash  Mathematics  29/07/2016   90.0\n",
      "98          Lane Torres  Mathematics  29/07/2016   87.0\n",
      "99         Jonas Vinson  Mathematics  29/07/2016   40.0\n",
      "100       Burton Holden  Mathematics  29/07/2016   26.0\n",
      "101         Connor Shaw  Mathematics  29/07/2016   51.0\n"
     ]
    }
   ],
   "source": [
    "filter2=iris_dataset[iris_dataset[\"Exam name\"] == 'Mathematics'] \n",
    "print(filter2)"
   ]
  },
  {
   "cell_type": "code",
   "execution_count": 18,
   "id": "9d926468",
   "metadata": {},
   "outputs": [
    {
     "name": "stdout",
     "output_type": "stream",
     "text": [
      "48.97222222222222\n"
     ]
    }
   ],
   "source": [
    "Mathematics = filter2[\"Marks\"].mean()\n",
    "print(Mathematics)"
   ]
  },
  {
   "cell_type": "code",
   "execution_count": 19,
   "id": "5a940891",
   "metadata": {},
   "outputs": [
    {
     "name": "stdout",
     "output_type": "stream",
     "text": [
      "           Student name   Exam name   Exam date  Marks\n",
      "102       Calvin Riddle  Philosophy  02/06/2016   35.0\n",
      "103         Tara Mendez  Philosophy  02/06/2016   66.0\n",
      "105         Pandora Orr  Philosophy  02/06/2016   91.0\n",
      "106     Stuart Crawford  Philosophy  02/06/2016   63.0\n",
      "107       Winter Mendez  Philosophy  02/06/2016   16.0\n",
      "108         Elijah Goff  Philosophy  02/06/2016   10.0\n",
      "109    Chiquita Gilmore  Philosophy  02/06/2016   23.0\n",
      "110     Eleanor Gregory  Philosophy  02/06/2016   72.0\n",
      "111        Justine Soto  Philosophy  02/06/2016   93.0\n",
      "112     Stuart Mcdaniel  Philosophy  02/06/2016   10.0\n",
      "113    Shaeleigh Dunlap  Philosophy  02/06/2016   99.0\n",
      "114       Lesley Bolton  Philosophy  02/06/2016   67.0\n",
      "115       Shellie Davis  Philosophy  02/06/2016   81.0\n",
      "116        Tarik Jarvis  Philosophy  02/06/2016   40.0\n",
      "117          Adria Ball  Philosophy  02/06/2016   23.0\n",
      "118       Daryl Tillman  Philosophy  02/06/2016   65.0\n",
      "119          Magee Tate  Philosophy  02/06/2016   24.0\n",
      "120      Jordan Beasley  Philosophy  02/06/2016   62.0\n",
      "121       Dalton Becker  Philosophy  02/06/2016   41.0\n",
      "122       Derek Burnett  Philosophy  02/06/2016   42.0\n",
      "123        Halla Little  Philosophy  02/06/2016    8.0\n",
      "124           Lani Pate  Philosophy  02/06/2016   91.0\n",
      "125         Moses Chang  Philosophy  02/06/2016   69.0\n",
      "126        Travis Weeks  Philosophy  02/06/2016   47.0\n",
      "127      Nichole Ortega  Philosophy  02/06/2016    0.0\n",
      "128        Hasad Berger  Philosophy  02/06/2016   42.0\n",
      "129         Galvin Hall  Philosophy  02/06/2016   65.0\n",
      "130      Kieran English  Philosophy  02/06/2016   42.0\n",
      "131           Ella Dunn  Philosophy  02/06/2016   32.0\n",
      "132      Jermaine Roman  Philosophy  02/06/2016   33.0\n",
      "133  Chadwick Armstrong  Philosophy  02/06/2016    4.0\n",
      "134        Rhonda Ellis  Philosophy  02/06/2016   27.0\n",
      "135         Ezra Brooks  Philosophy  02/06/2016   56.0\n",
      "136   Jessamine Trevino  Philosophy  02/06/2016   36.0\n",
      "137      Chaim Garrison  Philosophy  02/06/2016   51.0\n",
      "138          Bo Leonard  Philosophy  02/06/2016   71.0\n",
      "139       May Christian  Philosophy  02/06/2016   52.0\n"
     ]
    }
   ],
   "source": [
    "filter2=iris_dataset[iris_dataset[\"Exam name\"] == 'Philosophy'] \n",
    "print(filter2)"
   ]
  },
  {
   "cell_type": "code",
   "execution_count": 20,
   "id": "26ea2653",
   "metadata": {},
   "outputs": [
    {
     "name": "stdout",
     "output_type": "stream",
     "text": [
      "47.270270270270274\n"
     ]
    }
   ],
   "source": [
    "Philosophy = filter2[\"Marks\"].mean()\n",
    "print(Philosophy)"
   ]
  },
  {
   "cell_type": "code",
   "execution_count": 21,
   "id": "0d5c24a6",
   "metadata": {},
   "outputs": [
    {
     "name": "stdout",
     "output_type": "stream",
     "text": [
      "         Student name Exam name   Exam date  Marks\n",
      "140  Ashton Nicholson   Physics  10/06/2016   69.0\n",
      "141   Solomon Rollins   Physics  10/06/2016   95.0\n",
      "142   Wesley Jacobson   Physics  10/06/2016   33.0\n",
      "143       Laura Gomez   Physics  10/06/2016   76.0\n",
      "144      Cora Fuentes   Physics  10/06/2016   20.0\n",
      "145   Deirdre Flowers   Physics  10/06/2016   10.0\n",
      "146      Yen Rutledge   Physics  10/06/2016   67.0\n",
      "147  Vladimir Delgado   Physics  10/06/2016   80.0\n",
      "148     Hedley Brewer   Physics  10/06/2016   22.0\n",
      "149    Lillian Massey   Physics  10/06/2016    8.0\n",
      "150      James Walker   Physics  10/06/2016  100.0\n",
      "151       Raja Conley   Physics  10/06/2016   49.0\n",
      "152     Xavier Coffey   Physics  10/06/2016   70.0\n",
      "153        Ian Sawyer   Physics  10/06/2016   86.0\n",
      "154    Branden Hansen   Physics  10/06/2016   15.0\n",
      "155    Yoshio Schultz   Physics  10/06/2016   95.0\n",
      "156     Jamal Mercado   Physics  10/06/2016   67.0\n",
      "157    Ishmael Zamora   Physics  10/06/2016   20.0\n",
      "158    Kristen Potter   Physics  10/06/2016   31.0\n",
      "159   Unity Rodriquez   Physics  10/06/2016   48.0\n",
      "160         Mia Barry   Physics  10/06/2016   26.0\n"
     ]
    }
   ],
   "source": [
    "filter2=iris_dataset[iris_dataset[\"Exam name\"] == 'Physics'] \n",
    "print(filter2)"
   ]
  },
  {
   "cell_type": "code",
   "execution_count": 22,
   "id": "8475b8f9",
   "metadata": {},
   "outputs": [
    {
     "name": "stdout",
     "output_type": "stream",
     "text": [
      "51.76190476190476\n"
     ]
    }
   ],
   "source": [
    "Physics = filter2[\"Marks\"].mean()\n",
    "print(Physics)"
   ]
  },
  {
   "cell_type": "code",
   "execution_count": 23,
   "id": "75efa255",
   "metadata": {},
   "outputs": [
    {
     "name": "stdout",
     "output_type": "stream",
     "text": [
      "          Student name  Exam name   Exam date  Marks\n",
      "161      Vincent Byers  Sociology  21/06/2016   70.0\n",
      "162      Rogan Edwards  Sociology  21/06/2016   37.0\n",
      "163     Darrel Wallace  Sociology  21/06/2016   68.0\n",
      "164       Colin Adkins  Sociology  21/06/2016   60.0\n",
      "165          Hop Cantu  Sociology  21/06/2016   98.0\n",
      "166        Nita Valdez  Sociology  21/06/2016   20.0\n",
      "167      Georgia Gomez  Sociology  21/06/2016   32.0\n",
      "168     Shannon Fields  Sociology  21/06/2016   40.0\n",
      "169     Jennifer Keith  Sociology  21/06/2016   97.0\n",
      "170          Keane Cox  Sociology  21/06/2016    1.0\n",
      "171        Sage Foster  Sociology  21/06/2016    6.0\n",
      "172        Ezra Hoover  Sociology  21/06/2016   39.0\n",
      "173       Burton Burke  Sociology  21/06/2016   68.0\n",
      "174    Preston Barrera  Sociology  21/06/2016   37.0\n",
      "175     Octavia Monroe  Sociology  21/06/2016   37.0\n",
      "176     Kirestin Sweet  Sociology  21/06/2016   90.0\n",
      "177  Octavius Chambers  Sociology  21/06/2016   38.0\n",
      "178       Grady Decker  Sociology  21/06/2016   87.0\n",
      "179   Jenette Humphrey  Sociology  21/06/2016   45.0\n",
      "180       James Walker  Sociology  21/06/2016   73.0\n",
      "181  Mohammad Cantrell  Sociology  21/06/2016   36.0\n",
      "182      Alma Richmond  Sociology  21/06/2016   35.0\n",
      "183       Galena Mayer  Sociology  21/06/2016   85.0\n",
      "184        Reese Black  Sociology  21/06/2016    7.0\n",
      "185       Phillip Ward  Sociology  21/06/2016   67.0\n",
      "186  Priscilla Higgins  Sociology  21/06/2016   80.0\n",
      "187      Yael Trujillo  Sociology  21/06/2016   55.0\n",
      "189       Todd Dillard  Sociology  21/06/2016   67.0\n",
      "190       Noelle Marsh  Sociology  21/06/2016   27.0\n",
      "191         Akeem Chan  Sociology  21/06/2016   94.0\n",
      "192      Victoria Long  Sociology  21/06/2016   96.0\n",
      "193   Brooke Zimmerman  Sociology  21/06/2016   99.0\n",
      "194      Cadman Greene  Sociology  21/06/2016   64.0\n",
      "195         Yen Bowers  Sociology  21/06/2016   52.0\n",
      "196          Ryan Pena  Sociology  21/06/2016   16.0\n",
      "197    Portia Hamilton  Sociology  21/06/2016   34.0\n",
      "198    Sydnee Chambers  Sociology  21/06/2016   76.0\n",
      "199        Stacy Small  Sociology  21/06/2016   96.0\n"
     ]
    }
   ],
   "source": [
    "filter2=iris_dataset[iris_dataset[\"Exam name\"] == 'Sociology'] \n",
    "print(filter2)"
   ]
  },
  {
   "cell_type": "code",
   "execution_count": 24,
   "id": "b4aac61a",
   "metadata": {},
   "outputs": [
    {
     "name": "stdout",
     "output_type": "stream",
     "text": [
      "56.026315789473685\n"
     ]
    }
   ],
   "source": [
    "Sociology= filter2[\"Marks\"].mean()\n",
    "print(Sociology)"
   ]
  },
  {
   "cell_type": "code",
   "execution_count": 25,
   "id": "7f31e502",
   "metadata": {},
   "outputs": [
    {
     "name": "stdout",
     "output_type": "stream",
     "text": [
      "47.89473684210526\n",
      "50.57692307692308\n",
      "48.97222222222222\n",
      "47.270270270270274\n",
      "51.76190476190476\n",
      "56.026315789473685\n"
     ]
    }
   ],
   "source": [
    "print(Biology)\n",
    "print(Chemistry)\n",
    "print(Mathematics)\n",
    "print(Philosophy)\n",
    "print(Physics)\n",
    "print(Sociology)"
   ]
  },
  {
   "cell_type": "code",
   "execution_count": 26,
   "id": "f85c2512",
   "metadata": {},
   "outputs": [
    {
     "data": {
      "text/html": [
       "<div>\n",
       "<style scoped>\n",
       "    .dataframe tbody tr th:only-of-type {\n",
       "        vertical-align: middle;\n",
       "    }\n",
       "\n",
       "    .dataframe tbody tr th {\n",
       "        vertical-align: top;\n",
       "    }\n",
       "\n",
       "    .dataframe thead th {\n",
       "        text-align: right;\n",
       "    }\n",
       "</style>\n",
       "<table border=\"1\" class=\"dataframe\">\n",
       "  <thead>\n",
       "    <tr style=\"text-align: right;\">\n",
       "      <th></th>\n",
       "      <th>Exam name</th>\n",
       "      <th>Average Marks</th>\n",
       "    </tr>\n",
       "  </thead>\n",
       "  <tbody>\n",
       "    <tr>\n",
       "      <th>0</th>\n",
       "      <td>Biology</td>\n",
       "      <td>47.894737</td>\n",
       "    </tr>\n",
       "    <tr>\n",
       "      <th>1</th>\n",
       "      <td>Chemistry</td>\n",
       "      <td>50.576923</td>\n",
       "    </tr>\n",
       "    <tr>\n",
       "      <th>2</th>\n",
       "      <td>Mathematics</td>\n",
       "      <td>48.972222</td>\n",
       "    </tr>\n",
       "    <tr>\n",
       "      <th>3</th>\n",
       "      <td>Philosophy</td>\n",
       "      <td>47.270270</td>\n",
       "    </tr>\n",
       "    <tr>\n",
       "      <th>4</th>\n",
       "      <td>Physics</td>\n",
       "      <td>51.761905</td>\n",
       "    </tr>\n",
       "    <tr>\n",
       "      <th>5</th>\n",
       "      <td>Sociology</td>\n",
       "      <td>56.026316</td>\n",
       "    </tr>\n",
       "  </tbody>\n",
       "</table>\n",
       "</div>"
      ],
      "text/plain": [
       "     Exam name  Average Marks\n",
       "0      Biology      47.894737\n",
       "1    Chemistry      50.576923\n",
       "2  Mathematics      48.972222\n",
       "3   Philosophy      47.270270\n",
       "4      Physics      51.761905\n",
       "5    Sociology      56.026316"
      ]
     },
     "execution_count": 26,
     "metadata": {},
     "output_type": "execute_result"
    }
   ],
   "source": [
    "df = pd.DataFrame([('Biology', Biology),\n",
    "                   ('Chemistry', Chemistry),\n",
    "                   ('Mathematics', Mathematics),\n",
    "                   ('Philosophy', Philosophy),\n",
    "                  ('Physics', Physics),\n",
    "                  ('Sociology',Sociology)],\n",
    "           columns=('Exam name', 'Average Marks')\n",
    "                 )\n",
    "df"
   ]
  },
  {
   "cell_type": "code",
   "execution_count": 27,
   "id": "289ba624",
   "metadata": {},
   "outputs": [
    {
     "data": {
      "image/png": "[encoded data removed]",
      "text/plain": [
       "<Figure size 640x480 with 1 Axes>"
      ]
     },
     "metadata": {},
     "output_type": "display_data"
    }
   ],
   "source": [
    "df.plot.bar(x='Exam name', y='Average Marks', rot=0);"
   ]
  },
  {
   "cell_type": "markdown",
   "id": "85a10069",
   "metadata": {},
   "source": [
    "# Question 4"
   ]
  },
  {
   "cell_type": "code",
   "execution_count": 30,
   "id": "c88c1fed",
   "metadata": {},
   "outputs": [],
   "source": [
    "import numpy as np\n",
    "import pandas as pd\n",
    "from matplotlib import pyplot as plt\n",
    "from sklearn import linear_model"
   ]
  },
  {
   "cell_type": "code",
   "execution_count": 31,
   "id": "82eab995",
   "metadata": {},
   "outputs": [],
   "source": [
    "iris_dataset=pd.read_csv(\"CatData.csv\")"
   ]
  },
  {
   "cell_type": "code",
   "execution_count": 32,
   "id": "cf78f0f0",
   "metadata": {},
   "outputs": [
    {
     "data": {
      "text/html": [
       "<div>\n",
       "<style scoped>\n",
       "    .dataframe tbody tr th:only-of-type {\n",
       "        vertical-align: middle;\n",
       "    }\n",
       "\n",
       "    .dataframe tbody tr th {\n",
       "        vertical-align: top;\n",
       "    }\n",
       "\n",
       "    .dataframe thead th {\n",
       "        text-align: right;\n",
       "    }\n",
       "</style>\n",
       "<table border=\"1\" class=\"dataframe\">\n",
       "  <thead>\n",
       "    <tr style=\"text-align: right;\">\n",
       "      <th></th>\n",
       "      <th>Tail Length (cm)</th>\n",
       "      <th>Mass (kg)</th>\n",
       "    </tr>\n",
       "  </thead>\n",
       "  <tbody>\n",
       "    <tr>\n",
       "      <th>0</th>\n",
       "      <td>18.1</td>\n",
       "      <td>3.750</td>\n",
       "    </tr>\n",
       "    <tr>\n",
       "      <th>1</th>\n",
       "      <td>18.6</td>\n",
       "      <td>3.800</td>\n",
       "    </tr>\n",
       "    <tr>\n",
       "      <th>2</th>\n",
       "      <td>19.5</td>\n",
       "      <td>3.250</td>\n",
       "    </tr>\n",
       "    <tr>\n",
       "      <th>3</th>\n",
       "      <td>19.3</td>\n",
       "      <td>3.450</td>\n",
       "    </tr>\n",
       "    <tr>\n",
       "      <th>4</th>\n",
       "      <td>19.0</td>\n",
       "      <td>3.650</td>\n",
       "    </tr>\n",
       "    <tr>\n",
       "      <th>...</th>\n",
       "      <td>...</td>\n",
       "      <td>...</td>\n",
       "    </tr>\n",
       "    <tr>\n",
       "      <th>337</th>\n",
       "      <td>20.7</td>\n",
       "      <td>4.000</td>\n",
       "    </tr>\n",
       "    <tr>\n",
       "      <th>338</th>\n",
       "      <td>20.2</td>\n",
       "      <td>3.400</td>\n",
       "    </tr>\n",
       "    <tr>\n",
       "      <th>339</th>\n",
       "      <td>19.3</td>\n",
       "      <td>3.775</td>\n",
       "    </tr>\n",
       "    <tr>\n",
       "      <th>340</th>\n",
       "      <td>21.0</td>\n",
       "      <td>4.100</td>\n",
       "    </tr>\n",
       "    <tr>\n",
       "      <th>341</th>\n",
       "      <td>19.8</td>\n",
       "      <td>3.775</td>\n",
       "    </tr>\n",
       "  </tbody>\n",
       "</table>\n",
       "<p>342 rows × 2 columns</p>\n",
       "</div>"
      ],
      "text/plain": [
       "     Tail Length (cm)  Mass (kg)\n",
       "0                18.1      3.750\n",
       "1                18.6      3.800\n",
       "2                19.5      3.250\n",
       "3                19.3      3.450\n",
       "4                19.0      3.650\n",
       "..                ...        ...\n",
       "337              20.7      4.000\n",
       "338              20.2      3.400\n",
       "339              19.3      3.775\n",
       "340              21.0      4.100\n",
       "341              19.8      3.775\n",
       "\n",
       "[342 rows x 2 columns]"
      ]
     },
     "execution_count": 32,
     "metadata": {},
     "output_type": "execute_result"
    }
   ],
   "source": [
    "iris_dataset"
   ]
  },
  {
   "cell_type": "code",
   "execution_count": 33,
   "id": "10829217",
   "metadata": {},
   "outputs": [
    {
     "name": "stdout",
     "output_type": "stream",
     "text": [
      "     Tail Length (cm)  Mass (kg)\n",
      "0                18.1      3.750\n",
      "1                18.6      3.800\n",
      "2                19.5      3.250\n",
      "3                19.3      3.450\n",
      "4                19.0      3.650\n",
      "..                ...        ...\n",
      "337              20.7      4.000\n",
      "338              20.2      3.400\n",
      "339              19.3      3.775\n",
      "340              21.0      4.100\n",
      "341              19.8      3.775\n",
      "\n",
      "[342 rows x 2 columns]\n"
     ]
    }
   ],
   "source": [
    "iris_dataset=iris_dataset.dropna() \n",
    "print(iris_dataset)"
   ]
  },
  {
   "cell_type": "code",
   "execution_count": 34,
   "id": "06ef186c",
   "metadata": {},
   "outputs": [],
   "source": [
    "def simple_linear_regression(Mass,TailLength):\n",
    "    \n",
    "    Xi=Mass\n",
    "    Yi=TailLength\n",
    "    \n",
    "    #Total number of data points:\n",
    "    n=len(xi)\n",
    "    \n",
    "    #X bar:\n",
    "    Xi_mean=Xi.mean()\n",
    "    \n",
    "    #Y bar:\n",
    "    Yi_mean=Yi.mean()\n",
    "    \n",
    "    #Sum of X:\n",
    "    S_Xi=(Xi).sum()\n",
    "\n",
    "    #Sum of Y:\n",
    "    S_Yi=(Yi).sum()\n",
    "\n",
    "    #Sum of (X*Y) multiplied by n:\n",
    "    S_XiYi=((Xi*Yi).sum())*n\n",
    "\n",
    "    #Sum of X*Sum of Y:\n",
    "    S_Xi_S_Yi=S_Xi*S_Yi\n",
    "\n",
    "    #Sum of (X*X) multiplied by n:\n",
    "    S_XiXi=((Xi*Xi).sum())*n\n",
    "\n",
    "    #Square of sum of x:\n",
    "    S_Xi_Square=S_Xi*S_Xi\n",
    "\n",
    "    #slope:\n",
    "    slope=(S_XiYi-S_Xi_S_Yi)/(S_XiXi-S_Xi_Square)\n",
    "\n",
    "    #Intercept:\n",
    "    intercept=Yi_mean-slope*Xi_mean\n",
    "    \n",
    "slope=1.52760296\n",
    "intercept=13.67290803"
   ]
  },
  {
   "cell_type": "code",
   "execution_count": 35,
   "id": "7bb51ab6",
   "metadata": {},
   "outputs": [
    {
     "data": {
      "image/png": "[encoded data removed]",
      "text/plain": [
       "<Figure size 640x480 with 1 Axes>"
      ]
     },
     "metadata": {},
     "output_type": "display_data"
    }
   ],
   "source": [
    "plt.scatter(iris_dataset[\"Mass (kg)\"],iris_dataset[\"Tail Length (cm)\"])\n",
    "plt.plot(iris_dataset[\"Mass (kg)\"],slope*iris_dataset[\"Mass (kg)\"]+intercept,color=\"red\")\n",
    "plt.xlabel(\"Mass (kg)\")\n",
    "plt.ylabel(\"Tail Length (cm)\")\n",
    "plt.show()"
   ]
  },
  {
   "cell_type": "code",
   "execution_count": null,
   "id": "d5c9d38f",
   "metadata": {},
   "outputs": [],
   "source": []
  }
 ],
 "metadata": {
  "kernelspec": {
   "display_name": "Python 3 (ipykernel)",
   "language": "python",
   "name": "python3"
  },
  "language_info": {
   "codemirror_mode": {
    "name": "ipython",
    "version": 3
   },
   "file_extension": ".py",
   "mimetype": "text/x-python",
   "name": "python",
   "nbconvert_exporter": "python",
   "pygments_lexer": "ipython3",
   "version": "3.10.7"
  }
 },
 "nbformat": 4,
 "nbformat_minor": 5
}
